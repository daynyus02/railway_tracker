{
 "cells": [
  {
   "cell_type": "code",
   "execution_count": 45,
   "id": "1fc39bc8",
   "metadata": {},
   "outputs": [],
   "source": [
    "import datetime as dt\n",
    "import pandas as pd\n",
    "from pandas import DataFrame\n",
    "\n",
    "from transform_pdf_summary import convert_train_times_to_date_times"
   ]
  },
  {
   "cell_type": "code",
   "execution_count": null,
   "id": "5aeda1ea",
   "metadata": {},
   "outputs": [],
   "source": [
    "data = [{\n",
    "        'service_date': dt.date(2025, 6, 14),\n",
    "        'scheduled_arr_time': dt.time(21, 20),\n",
    "        'actual_arr_time': dt.time(21, 29),\n",
    "        'scheduled_dep_time': dt.time(21, 21),\n",
    "        'actual_dep_time': dt.time(21, 27),\n",
    "        'cancellation_id': None,\n",
    "        'reason': None\n",
    "        },\n",
    "        {\n",
    "        'service_date': dt.date(2025, 6, 14),\n",
    "        'scheduled_arr_time': dt.time(22, 20),\n",
    "        'actual_arr_time': dt.time(22, 20),\n",
    "        'scheduled_dep_time': dt.time(23, 45),\n",
    "        'actual_dep_time': dt.time(23, 45),\n",
    "        'cancellation_id': None,\n",
    "        'reason': None\n",
    "        }\n",
    "    ]"
   ]
  },
  {
   "cell_type": "code",
   "execution_count": 80,
   "id": "22589633",
   "metadata": {},
   "outputs": [
    {
     "ename": "TypeError",
     "evalue": "combine() argument 2 must be datetime.time, not Series",
     "output_type": "error",
     "traceback": [
      "\u001b[31m---------------------------------------------------------------------------\u001b[39m",
      "\u001b[31mTypeError\u001b[39m                                 Traceback (most recent call last)",
      "\u001b[36mCell\u001b[39m\u001b[36m \u001b[39m\u001b[32mIn[80]\u001b[39m\u001b[32m, line 3\u001b[39m\n\u001b[32m      1\u001b[39m train_date = data[\u001b[33m\"\u001b[39m\u001b[33mservice_date\u001b[39m\u001b[33m\"\u001b[39m][\u001b[32m0\u001b[39m]\n\u001b[32m----> \u001b[39m\u001b[32m3\u001b[39m data[\u001b[33m\"\u001b[39m\u001b[33mscheduled_arr_time\u001b[39m\u001b[33m\"\u001b[39m] = \u001b[43mdt\u001b[49m\u001b[43m.\u001b[49m\u001b[43mdatetime\u001b[49m\u001b[43m.\u001b[49m\u001b[43mcombine\u001b[49m\u001b[43m(\u001b[49m\u001b[43mtrain_date\u001b[49m\u001b[43m,\u001b[49m\n\u001b[32m      4\u001b[39m \u001b[43m                                                    \u001b[49m\u001b[43mdata\u001b[49m\u001b[43m[\u001b[49m\u001b[33;43m\"\u001b[39;49m\u001b[33;43mscheduled_arr_time\u001b[39;49m\u001b[33;43m\"\u001b[39;49m\u001b[43m]\u001b[49m\u001b[43m)\u001b[49m\n\u001b[32m      5\u001b[39m data[\u001b[33m\"\u001b[39m\u001b[33mactual_arr_time\u001b[39m\u001b[33m\"\u001b[39m] = dt.datetime.combine(train_date,\n\u001b[32m      6\u001b[39m                                                 data[\u001b[33m\"\u001b[39m\u001b[33mactual_arr_time\u001b[39m\u001b[33m\"\u001b[39m])\n\u001b[32m      7\u001b[39m data[\u001b[33m\"\u001b[39m\u001b[33mscheduled_dep_time\u001b[39m\u001b[33m\"\u001b[39m] = dt.datetime.combine(train_date,\n\u001b[32m      8\u001b[39m                                                     data[\u001b[33m\"\u001b[39m\u001b[33mscheduled_dep_time\u001b[39m\u001b[33m\"\u001b[39m])\n",
      "\u001b[31mTypeError\u001b[39m: combine() argument 2 must be datetime.time, not Series"
     ]
    }
   ],
   "source": [
    "train_date = data[\"service_date\"][0]\n",
    "\n",
    "data[\"scheduled_arr_time\"] = dt.datetime.combine(train_date,\n",
    "                                                    data[\"scheduled_arr_time\"])\n",
    "data[\"actual_arr_time\"] = dt.datetime.combine(train_date,\n",
    "                                                data[\"actual_arr_time\"])\n",
    "data[\"scheduled_dep_time\"] = dt.datetime.combine(train_date,\n",
    "                                                    data[\"scheduled_dep_time\"])\n",
    "data[\"actual_dep_time\"] = dt.datetime.combine(train_date,\n",
    "                                                data[\"actual_dep_time\"])"
   ]
  },
  {
   "cell_type": "code",
   "execution_count": 50,
   "id": "7bb10a11",
   "metadata": {},
   "outputs": [],
   "source": [
    "data = DataFrame(data)"
   ]
  },
  {
   "cell_type": "code",
   "execution_count": 54,
   "id": "7a5af5a2",
   "metadata": {},
   "outputs": [
    {
     "data": {
      "text/plain": [
       "0.5"
      ]
     },
     "execution_count": 54,
     "metadata": {},
     "output_type": "execute_result"
    }
   ],
   "source": [
    "len(data[data[\"actual_dep_time\"] > data[\"scheduled_dep_time\"]+dt.timedelta(minutes=5)])/len(data)"
   ]
  },
  {
   "cell_type": "code",
   "execution_count": 56,
   "id": "bb56d8e2",
   "metadata": {},
   "outputs": [
    {
     "data": {
      "text/plain": [
       "0.5"
      ]
     },
     "execution_count": 56,
     "metadata": {},
     "output_type": "execute_result"
    }
   ],
   "source": [
    "len(data[data[\"actual_arr_time\"] > data[\"scheduled_arr_time\"] +\n",
    "    dt.timedelta(minutes=5)])/len(data)"
   ]
  },
  {
   "cell_type": "code",
   "execution_count": 57,
   "id": "c8fa45e7",
   "metadata": {},
   "outputs": [],
   "source": [
    "cancelled_data = [\n",
    "    {\n",
    "        'service_date': dt.date(2025, 6, 14),\n",
    "        'scheduled_arr_time': dt.time(21, 20),\n",
    "        'actual_arr_time': dt.time(21, 29),\n",
    "        'scheduled_dep_time': dt.time(21, 21),\n",
    "        'actual_dep_time': dt.time(21, 27),\n",
    "        'cancellation_id': None,\n",
    "        'reason': None\n",
    "    },\n",
    "    {\n",
    "        'service_date': dt.date(2025, 6, 14),\n",
    "        'scheduled_arr_time': dt.time(22, 20),\n",
    "        'actual_arr_time': dt.time(22, 20),\n",
    "        'scheduled_dep_time': dt.time(23, 45),\n",
    "        'actual_dep_time': dt.time(23, 45),\n",
    "        'cancellation_id': 13,\n",
    "        'reason': 'a problem with the train'\n",
    "    }\n",
    "]"
   ]
  },
  {
   "cell_type": "code",
   "execution_count": 58,
   "id": "bc8695b4",
   "metadata": {},
   "outputs": [],
   "source": [
    "train_date = cancelled_data[0][\"service_date\"]\n",
    "for train in cancelled_data:\n",
    "    train[\"scheduled_arr_time\"] = dt.datetime.combine(train_date,\n",
    "                                                      train[\"scheduled_arr_time\"])\n",
    "    train[\"actual_arr_time\"] = dt.datetime.combine(train_date,\n",
    "                                                   train[\"actual_arr_time\"])\n",
    "    train[\"scheduled_dep_time\"] = dt.datetime.combine(train_date,\n",
    "                                                      train[\"scheduled_dep_time\"])\n",
    "    train[\"actual_dep_time\"] = dt.datetime.combine(train_date,\n",
    "                                                   train[\"actual_dep_time\"])"
   ]
  },
  {
   "cell_type": "code",
   "execution_count": null,
   "id": "19b46fc0",
   "metadata": {},
   "outputs": [],
   "source": [
    "df2 = DataFrame(cancelled_data)"
   ]
  },
  {
   "cell_type": "code",
   "execution_count": 71,
   "id": "055d4fb8",
   "metadata": {},
   "outputs": [
    {
     "name": "stdout",
     "output_type": "stream",
     "text": [
      "  service_date  scheduled_arr_time     actual_arr_time  scheduled_dep_time  \\\n",
      "0   2025-06-14 2025-06-14 21:20:00 2025-06-14 21:29:00 2025-06-14 21:21:00   \n",
      "1   2025-06-14 2025-06-14 22:20:00 2025-06-14 22:20:00 2025-06-14 23:45:00   \n",
      "\n",
      "      actual_dep_time  cancellation_id                    reason  \n",
      "0 2025-06-14 21:27:00              NaN                      None  \n",
      "1 2025-06-14 23:45:00             13.0  a problem with the train  \n"
     ]
    }
   ],
   "source": [
    "print(df2)"
   ]
  },
  {
   "cell_type": "code",
   "execution_count": 76,
   "id": "1b44bdcf",
   "metadata": {},
   "outputs": [
    {
     "data": {
      "text/plain": [
       "50.0"
      ]
     },
     "execution_count": 76,
     "metadata": {},
     "output_type": "execute_result"
    }
   ],
   "source": [
    "int(df2[\"cancellation_id\"].count())/len(df2) * 100"
   ]
  },
  {
   "cell_type": "code",
   "execution_count": null,
   "id": "468249bc",
   "metadata": {},
   "outputs": [],
   "source": []
  }
 ],
 "metadata": {
  "kernelspec": {
   "display_name": ".venv",
   "language": "python",
   "name": "python3"
  },
  "language_info": {
   "codemirror_mode": {
    "name": "ipython",
    "version": 3
   },
   "file_extension": ".py",
   "mimetype": "text/x-python",
   "name": "python",
   "nbconvert_exporter": "python",
   "pygments_lexer": "ipython3",
   "version": "3.13.3"
  }
 },
 "nbformat": 4,
 "nbformat_minor": 5
}
